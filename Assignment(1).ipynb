{
 "cells": [
  {
   "cell_type": "markdown",
   "id": "46e8cc27-39e8-48c6-b97c-cb62f6b83421",
   "metadata": {},
   "source": [
    "Q1. Create one variable containing following type of data:\n",
    "(i) string\n",
    "(ii) list\n",
    "(iii) float\n",
    "(iv) tuple"
   ]
  },
  {
   "cell_type": "code",
   "execution_count": 4,
   "id": "40db5319-663f-4441-9e08-924c8d8c5c86",
   "metadata": {},
   "outputs": [
    {
     "name": "stdout",
     "output_type": "stream",
     "text": [
      "<class 'str'>\n"
     ]
    }
   ],
   "source": [
    "# 1) - String\n",
    "s = \"Apple\"\n",
    "print(type(str))\n"
   ]
  },
  {
   "cell_type": "code",
   "execution_count": 5,
   "id": "72bb5a95-599b-4393-9670-e5cac6f130d0",
   "metadata": {},
   "outputs": [
    {
     "name": "stdout",
     "output_type": "stream",
     "text": [
      "<class 'list'>\n"
     ]
    }
   ],
   "source": [
    "# 2) - list\n",
    "l = [1,2,3,4,True,False,\"abc\",'a','b','c']\n",
    "print(type(l))"
   ]
  },
  {
   "cell_type": "code",
   "execution_count": 6,
   "id": "5770e832-a583-4cbc-9f1a-5a9fc6b8c548",
   "metadata": {},
   "outputs": [
    {
     "name": "stdout",
     "output_type": "stream",
     "text": [
      "<class 'float'>\n"
     ]
    }
   ],
   "source": [
    "# 3) - float\n",
    "f = 55.46\n",
    "print(type(f))"
   ]
  },
  {
   "cell_type": "code",
   "execution_count": 8,
   "id": "f753b1c7-c48f-466b-be92-067fa5c56f22",
   "metadata": {},
   "outputs": [
    {
     "name": "stdout",
     "output_type": "stream",
     "text": [
      "<class 'tuple'>\n"
     ]
    }
   ],
   "source": [
    "# 4) - tuple\n",
    "t = (1,2,3,4,True,False,'a','b')\n",
    "print(type(t))"
   ]
  },
  {
   "cell_type": "markdown",
   "id": "26b8687c-9f19-4839-892a-2659816c9bb9",
   "metadata": {},
   "source": [
    "Q2. Given are some following variables containing data:(i) var1 = ‘ ‘\n",
    "(ii) var2 = ‘[ DS , ML , Python]’\n",
    "(iii) var3 = [ ‘DS’ , ’ML’ , ‘Python’ ]\n",
    "(iv) var4 = 1.\n",
    "What will be the data type of the above given variable."
   ]
  },
  {
   "cell_type": "code",
   "execution_count": 11,
   "id": "0b2634bb-5e5d-4fcb-acfc-32913cfcc9f3",
   "metadata": {},
   "outputs": [
    {
     "name": "stdout",
     "output_type": "stream",
     "text": [
      "<class 'str'>\n",
      "var1 datatype is string.\n"
     ]
    }
   ],
   "source": [
    "# 1) \n",
    "var1 = ''\n",
    "print(type(var1))\n",
    "print(\"var1 datatype is string.\")"
   ]
  },
  {
   "cell_type": "code",
   "execution_count": 14,
   "id": "4524d15a-1e5b-4abe-9576-dcb679a70905",
   "metadata": {},
   "outputs": [
    {
     "name": "stdout",
     "output_type": "stream",
     "text": [
      "<class 'str'>\n",
      "var2 datatype is string.\n"
     ]
    }
   ],
   "source": [
    "# 2)\n",
    "var2 = '[ DS , ML , Python]'\n",
    "print(type(var2))\n",
    "print(\"var2 datatype is string.\")"
   ]
  },
  {
   "cell_type": "code",
   "execution_count": 16,
   "id": "2886fc5e-00bd-4d85-a4f9-d3a8ed6691eb",
   "metadata": {},
   "outputs": [
    {
     "name": "stdout",
     "output_type": "stream",
     "text": [
      "<class 'list'>\n",
      "var3 datatype is list.\n"
     ]
    }
   ],
   "source": [
    "# 3)\n",
    "var3 = [ 'DS' , 'ML' , 'Python' ]\n",
    "print(type(var3))\n",
    "print(\"var3 datatype is list.\")"
   ]
  },
  {
   "cell_type": "code",
   "execution_count": 17,
   "id": "ee6d44a2-92ae-412f-a0d5-31c912777f9d",
   "metadata": {},
   "outputs": [
    {
     "name": "stdout",
     "output_type": "stream",
     "text": [
      "<class 'int'>\n",
      "var4 datatype is integer.\n"
     ]
    }
   ],
   "source": [
    "# 4)\n",
    "var4 = 1\n",
    "print(type(var4))\n",
    "print(\"var4 datatype is integer.\")\n"
   ]
  },
  {
   "cell_type": "markdown",
   "id": "2de54e8d-4342-4c8a-b866-6bf03e0fbfdc",
   "metadata": {},
   "source": [
    "Q3. Explain the use of the following operators using an example:\n",
    "(i) /\n",
    "(ii) %\n",
    "(iii) //\n",
    "(iv) **"
   ]
  },
  {
   "cell_type": "code",
   "execution_count": 19,
   "id": "42143a71-f166-471c-b0d1-5e8170ba75ed",
   "metadata": {},
   "outputs": [
    {
     "name": "stdout",
     "output_type": "stream",
     "text": [
      "2.0\n",
      "The / operator, or division operator, divides two numbers and returns a float value.\n"
     ]
    }
   ],
   "source": [
    "# 1)- /\n",
    "a = 10\n",
    "b = 5\n",
    "print(a/b)\n",
    "print(\"The / operator, or division operator, divides two numbers and returns a float value.\")"
   ]
  },
  {
   "cell_type": "code",
   "execution_count": 21,
   "id": "ce8f7ef0-ca94-457f-8384-ea10508c753b",
   "metadata": {},
   "outputs": [
    {
     "name": "stdout",
     "output_type": "stream",
     "text": [
      "0\n",
      "The % operator in Python is called the Modulo Operator. It returns the remainder of dividing the left hand operand by right hand operand.\n"
     ]
    }
   ],
   "source": [
    "# 2) - %\n",
    "print(a%b)\n",
    "print(\"The % operator in Python is called the Modulo Operator. It returns the remainder of dividing the left hand operand by right hand operand.\")"
   ]
  },
  {
   "cell_type": "markdown",
   "id": "665eb62f-65a3-43ca-8bd3-69a4f3ac7827",
   "metadata": {},
   "source": []
  },
  {
   "cell_type": "markdown",
   "id": "5d80139b-7636-4e5e-b214-82e147dd4946",
   "metadata": {},
   "source": [
    "Q4. Create a list of length 10 of your choice containing multiple types of data. Using for loop print the\n",
    "element and its data type."
   ]
  },
  {
   "cell_type": "code",
   "execution_count": 25,
   "id": "e12cbcdc-31a5-4c1f-8f68-32733df69da7",
   "metadata": {},
   "outputs": [
    {
     "name": "stdout",
     "output_type": "stream",
     "text": [
      "<class 'int'>\n",
      "1\n",
      "<class 'int'>\n",
      "2\n",
      "<class 'bool'>\n",
      "True\n",
      "<class 'bool'>\n",
      "False\n",
      "<class 'float'>\n",
      "34.5\n",
      "<class 'float'>\n",
      "8.9\n",
      "<class 'str'>\n",
      "a\n",
      "<class 'str'>\n",
      "b\n",
      "<class 'list'>\n",
      "[1, 2]\n",
      "<class 'list'>\n",
      "[3, 4]\n"
     ]
    }
   ],
   "source": [
    "l1 = [1,2,True,False,34.5,8.9,'a','b',[1,2],[3,4]]\n",
    "for i in l1:\n",
    "    print(type(i))\n",
    "    print(i)"
   ]
  },
  {
   "cell_type": "code",
   "execution_count": null,
   "id": "6185f858-6844-460a-8e10-f4edc43e7447",
   "metadata": {},
   "outputs": [],
   "source": []
  },
  {
   "cell_type": "markdown",
   "id": "2c0b7dd8-fde2-4c24-95c0-811a96e517ff",
   "metadata": {},
   "source": [
    "Q5. Using a while loop, verify if the number A is purely divisible by number B and if so then how many\n",
    "times it can be divisible."
   ]
  },
  {
   "cell_type": "code",
   "execution_count": null,
   "id": "d4c73f0a-9c38-4edb-947f-d11dd20a66a8",
   "metadata": {},
   "outputs": [],
   "source": [
    "a = int(input(\"Enter the first number: \"))\n",
    "b = int(input(\"Enter the second number: \"))\n",
    "c = a/b\n",
    "#print(c)\n",
    "while b<=a:\n",
    "    if a%b==0:\n",
    "        print(\"The number a is divisible by (b) \", c , \"times.\")\n",
    "        break"
   ]
  },
  {
   "cell_type": "markdown",
   "id": "021de6d6-b2a4-4863-9845-a3bcea6df53f",
   "metadata": {},
   "source": [
    "Q6. Create a list containing 25 int type data. Using for loop and if-else condition print if the element is\n",
    "divisible by 3 or not."
   ]
  },
  {
   "cell_type": "code",
   "execution_count": 40,
   "id": "86f97e65-ffba-42b9-9c08-13baab5680ab",
   "metadata": {},
   "outputs": [
    {
     "name": "stdout",
     "output_type": "stream",
     "text": [
      "1  is not divisible by 3.\n",
      "2  is not divisible by 3.\n",
      "3  is divisible by 3.\n",
      "4  is not divisible by 3.\n",
      "5  is not divisible by 3.\n",
      "6  is divisible by 3.\n",
      "7  is not divisible by 3.\n",
      "8  is not divisible by 3.\n",
      "9  is divisible by 3.\n",
      "10  is not divisible by 3.\n",
      "11  is not divisible by 3.\n",
      "12  is divisible by 3.\n",
      "13  is not divisible by 3.\n",
      "14  is not divisible by 3.\n",
      "15  is divisible by 3.\n",
      "16  is not divisible by 3.\n",
      "17  is not divisible by 3.\n",
      "18  is divisible by 3.\n",
      "19  is not divisible by 3.\n",
      "20  is not divisible by 3.\n",
      "21  is divisible by 3.\n",
      "22  is not divisible by 3.\n",
      "23  is not divisible by 3.\n",
      "24  is divisible by 3.\n",
      "25  is not divisible by 3.\n"
     ]
    }
   ],
   "source": [
    "l2 = [1,2,3,4,5,6,7,8,9,10,11,12,13,14,15,16,17,18,19,20,21,22,23,24,25]\n",
    "for i in l2:\n",
    "    if i%3==0:\n",
    "        print(i,\" is divisible by 3.\")\n",
    "    else:\n",
    "        print(i,\" is not divisible by 3.\")\n"
   ]
  },
  {
   "cell_type": "markdown",
   "id": "e1036d12-77d3-4f47-9ae4-6b1ddbc60830",
   "metadata": {},
   "source": []
  },
  {
   "cell_type": "markdown",
   "id": "bd4b7395-127f-428b-bf94-04c19085b75d",
   "metadata": {},
   "source": [
    "Q7. What do you understand about mutable and immutable data types? Give examples for both showing\n",
    "this property."
   ]
  },
  {
   "cell_type": "code",
   "execution_count": 1,
   "id": "a9e8c649-ba93-4c92-9eff-0929588e99ba",
   "metadata": {},
   "outputs": [
    {
     "name": "stdout",
     "output_type": "stream",
     "text": [
      "[1, 2, 3, 4, 'strawberry', 'orange', 'mango', True, False]\n"
     ]
    }
   ],
   "source": [
    "# 1) Mutable Objects - A mutable object can be changed after it is created. Examples : List, Set, Dictionary\n",
    "l3 = [1,2,3,4,\"apple\",\"orange\",\"mango\",True,False]\n",
    "l3[4] = \"strawberry\"\n",
    "print(l3)"
   ]
  },
  {
   "cell_type": "code",
   "execution_count": null,
   "id": "800cc77f-0726-448b-92a2-ef7466a1c87e",
   "metadata": {},
   "outputs": [
    {
     "ename": "TypeError",
     "evalue": "'str' object does not support item assignment",
     "output_type": "error",
     "traceback": [
      "\u001b[0;31m---------------------------------------------------------------------------\u001b[0m",
      "\u001b[0;31mTypeError\u001b[0m                                 Traceback (most recent call last)",
      "Cell \u001b[0;32mIn[2], line 3\u001b[0m\n\u001b[1;32m      1\u001b[0m \u001b[38;5;66;03m# 2) An immutable object cannot be changed after it is created. Exg: tuples, int, float, bool, frozenset, string.\u001b[39;00m\n\u001b[1;32m      2\u001b[0m str2 \u001b[38;5;241m=\u001b[39m \u001b[38;5;124m\"\u001b[39m\u001b[38;5;124mpython\u001b[39m\u001b[38;5;124m\"\u001b[39m\n\u001b[0;32m----> 3\u001b[0m \u001b[43mstr2\u001b[49m\u001b[43m[\u001b[49m\u001b[38;5;241;43m1\u001b[39;49m\u001b[43m]\u001b[49m \u001b[38;5;241m=\u001b[39m \u001b[38;5;124m'\u001b[39m\u001b[38;5;124ma\u001b[39m\u001b[38;5;124m'\u001b[39m\n\u001b[1;32m      4\u001b[0m \u001b[38;5;28mprint\u001b[39m(str2)\n",
      "\u001b[0;31mTypeError\u001b[0m: 'str' object does not support item assignment"
     ]
    }
   ],
   "source": [
    "# 2) An immutable object cannot be changed after it is created. Exg: tuples, int, float, bool, frozenset, string.\n",
    "str2 = \"python\"\n",
    "str2[1] = 'a'\n",
    "print(str2)\n",
    "\n"
   ]
  },
  {
   "cell_type": "code",
   "execution_count": null,
   "id": "1d15e9e0-3033-49b3-bea3-4fc60b8bf497",
   "metadata": {},
   "outputs": [],
   "source": []
  }
 ],
 "metadata": {
  "kernelspec": {
   "display_name": "Python 3 (ipykernel)",
   "language": "python",
   "name": "python3"
  },
  "language_info": {
   "codemirror_mode": {
    "name": "ipython",
    "version": 3
   },
   "file_extension": ".py",
   "mimetype": "text/x-python",
   "name": "python",
   "nbconvert_exporter": "python",
   "pygments_lexer": "ipython3",
   "version": "3.10.8"
  }
 },
 "nbformat": 4,
 "nbformat_minor": 5
}
